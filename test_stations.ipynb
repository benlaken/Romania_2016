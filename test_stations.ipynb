{
 "cells": [
  {
   "cell_type": "markdown",
   "metadata": {},
   "source": [
    "# Example of working with GHCN data from Romania\n",
    "\n",
    "[Global historcal climate network](http://www.ncdc.noaa.gov/ghcnm/) weather station data from Romania.\n",
    "\n",
    "Requires Pandas version > 0.19.0"
   ]
  },
  {
   "cell_type": "code",
   "execution_count": 1,
   "metadata": {
    "collapsed": false
   },
   "outputs": [],
   "source": [
    "# Load some libraries\n",
    "import os\n",
    "import numpy as np\n",
    "import pandas as pd\n",
    "import matplotlib\n",
    "import matplotlib.pyplot as plt\n",
    "from tqdm import *\n",
    "\n",
    "matplotlib.style.use('ggplot')\n",
    "%matplotlib inline"
   ]
  },
  {
   "cell_type": "markdown",
   "metadata": {},
   "source": [
    "## Step 1: data preperation\n",
    "\n",
    "From our Station Data files we need to create:\n",
    "* one single data structure\n",
    "* Date indexed data (with only one index for all the datasets)\n",
    "* Station names as column identifiers\n",
    "\n",
    "We will use the [Pandas library](http://pandas.pydata.org/pandas-docs/stable/index.html), as it is perfectly suited to our task. We have read it in above with the alias **pd**.\n",
    "\n",
    "Before we try and read all the data, let's test a procedure with one single station file."
   ]
  },
  {
   "cell_type": "code",
   "execution_count": 2,
   "metadata": {
    "collapsed": false,
    "scrolled": true
   },
   "outputs": [
    {
     "data": {
      "text/html": [
       "<div>\n",
       "<table border=\"1\" class=\"dataframe\">\n",
       "  <thead>\n",
       "    <tr style=\"text-align: right;\">\n",
       "      <th></th>\n",
       "      <th>DATE</th>\n",
       "      <th>PRCP</th>\n",
       "      <th>TAVG</th>\n",
       "    </tr>\n",
       "  </thead>\n",
       "  <tbody>\n",
       "    <tr>\n",
       "      <th>0</th>\n",
       "      <td>19860301</td>\n",
       "      <td>-9999.0</td>\n",
       "      <td>-5.7</td>\n",
       "    </tr>\n",
       "    <tr>\n",
       "      <th>1</th>\n",
       "      <td>19860303</td>\n",
       "      <td>-9999.0</td>\n",
       "      <td>-0.1</td>\n",
       "    </tr>\n",
       "    <tr>\n",
       "      <th>2</th>\n",
       "      <td>19860304</td>\n",
       "      <td>0.5</td>\n",
       "      <td>0.9</td>\n",
       "    </tr>\n",
       "    <tr>\n",
       "      <th>3</th>\n",
       "      <td>19911129</td>\n",
       "      <td>-9999.0</td>\n",
       "      <td>5.3</td>\n",
       "    </tr>\n",
       "    <tr>\n",
       "      <th>4</th>\n",
       "      <td>19911201</td>\n",
       "      <td>-9999.0</td>\n",
       "      <td>5.1</td>\n",
       "    </tr>\n",
       "  </tbody>\n",
       "</table>\n",
       "</div>"
      ],
      "text/plain": [
       "       DATE    PRCP  TAVG\n",
       "0  19860301 -9999.0  -5.7\n",
       "1  19860303 -9999.0  -0.1\n",
       "2  19860304     0.5   0.9\n",
       "3  19911129 -9999.0   5.3\n",
       "4  19911201 -9999.0   5.1"
      ]
     },
     "execution_count": 2,
     "metadata": {},
     "output_type": "execute_result"
    }
   ],
   "source": [
    "# Read a station data file with Pandas\n",
    "test_data = pd.read_csv(\"Data/station_data/BUM00015502_VIDIN_BU_.csv\")\n",
    "test_data.head()"
   ]
  },
  {
   "cell_type": "markdown",
   "metadata": {},
   "source": [
    "Looks good, but the Dates should be an index, not a column, and they should also be a date object, not a simple integer (we get much more functionality that way)."
   ]
  },
  {
   "cell_type": "code",
   "execution_count": 3,
   "metadata": {
    "collapsed": false
   },
   "outputs": [
    {
     "data": {
      "text/html": [
       "<div>\n",
       "<table border=\"1\" class=\"dataframe\">\n",
       "  <thead>\n",
       "    <tr style=\"text-align: right;\">\n",
       "      <th></th>\n",
       "      <th>TAVG</th>\n",
       "    </tr>\n",
       "  </thead>\n",
       "  <tbody>\n",
       "    <tr>\n",
       "      <th>1986-03-01</th>\n",
       "      <td>-5.7</td>\n",
       "    </tr>\n",
       "    <tr>\n",
       "      <th>1986-03-03</th>\n",
       "      <td>-0.1</td>\n",
       "    </tr>\n",
       "    <tr>\n",
       "      <th>1986-03-04</th>\n",
       "      <td>0.9</td>\n",
       "    </tr>\n",
       "    <tr>\n",
       "      <th>1991-11-29</th>\n",
       "      <td>5.3</td>\n",
       "    </tr>\n",
       "    <tr>\n",
       "      <th>1991-12-01</th>\n",
       "      <td>5.1</td>\n",
       "    </tr>\n",
       "  </tbody>\n",
       "</table>\n",
       "</div>"
      ],
      "text/plain": [
       "            TAVG\n",
       "1986-03-01  -5.7\n",
       "1986-03-03  -0.1\n",
       "1986-03-04   0.9\n",
       "1991-11-29   5.3\n",
       "1991-12-01   5.1"
      ]
     },
     "execution_count": 3,
     "metadata": {},
     "output_type": "execute_result"
    }
   ],
   "source": [
    "# Make a list of datetime values out of the integer dates using a list comprehension technique\n",
    "dates = []\n",
    "for date in test_data['DATE']:\n",
    "    dates.append(pd.datetime.strptime(str(date),\"%Y%m%d\"))\n",
    "# The above could have been done more effectivley using list comprehension\n",
    "\n",
    "# Next set the new list as an index, and remove the old column from the dataset\n",
    "test_data.index = dates\n",
    "test_data = test_data.drop(['DATE','PRCP'], axis=1)\n",
    "\n",
    "test_data.head()"
   ]
  },
  {
   "cell_type": "markdown",
   "metadata": {},
   "source": [
    "Great! We can plot a simple preview of the data to make sure it looks good."
   ]
  },
  {
   "cell_type": "code",
   "execution_count": 4,
   "metadata": {
    "collapsed": false
   },
   "outputs": [
    {
     "data": {
      "text/plain": [
       "<matplotlib.axes._subplots.AxesSubplot at 0x112fa6668>"
      ]
     },
     "execution_count": 4,
     "metadata": {},
     "output_type": "execute_result"
    },
    {
     "data": {
      "image/png": "[encoded data removed]",
      "text/plain": [
       "<matplotlib.figure.Figure at 0x1048454a8>"
      ]
     },
     "metadata": {},
     "output_type": "display_data"
    }
   ],
   "source": [
    "test_data.plot()"
   ]
  },
  {
   "cell_type": "markdown",
   "metadata": {},
   "source": [
    "The preview plot is messy as our data are not contiguous, but as a quick-check, it seems like everything is more-or-less fine.\n",
    "\n",
    "So, reading a single file is easy, and straightforward. But we want to do some exploratory analysis on multiple station measurements. For this we will need to read all the station data together into a consistent data object. "
   ]
  },
  {
   "cell_type": "code",
   "execution_count": 5,
   "metadata": {
    "collapsed": false
   },
   "outputs": [],
   "source": [
    "# Make a small tools (functions) to help with the work\n",
    "\n",
    "def station_name(fname):\n",
    "    \"\"\"Return the station ID from a path/filename.csv string\"\"\"\n",
    "    tmp = fname.split('/')[-1]\n",
    "    return tmp.split('_')[0]"
   ]
  },
  {
   "cell_type": "code",
   "execution_count": null,
   "metadata": {
    "collapsed": false
   },
   "outputs": [],
   "source": [
    "# If we were on a Mac or Linux system, we could get the file list via a bash command\n",
    "flist = !ls Data/station_data/*.csv"
   ]
  },
  {
   "cell_type": "code",
   "execution_count": 6,
   "metadata": {
    "collapsed": false
   },
   "outputs": [
    {
     "name": "stderr",
     "output_type": "stream",
     "text": [
      "100%|██████████| 39/39 [00:05<00:00,  8.69it/s]"
     ]
    },
    {
     "name": "stdout",
     "output_type": "stream",
     "text": [
      "36 GHCN files read\n"
     ]
    },
    {
     "name": "stderr",
     "output_type": "stream",
     "text": [
      "\n"
     ]
    }
   ],
   "source": [
    "# But this will break on windows. To make our code cross-platform we use a python\n",
    "# library to find all the files instead. This is much better than hard-coding the files!\n",
    "\n",
    "frames = [] # an empty list to hold each data object as it is loaded\n",
    "\n",
    "mypath = 'Data/station_data/'          # Set path to data\n",
    "for item in tqdm(os.listdir(mypath)):        # Find all files in that path and loop over them\n",
    "    if '.csv' in item:                 # If the file is a csv type do something...\n",
    "        fname = ''.join([mypath,item])\n",
    "        station = station_name(fname)\n",
    "        #print('\\rReading data from station', station, end='')\n",
    "        tmp = pd.read_csv(fname)\n",
    "        dates = [pd.datetime.strptime(str(date),\"%Y%m%d\") for date in tmp['DATE']]\n",
    "        tmp.index = dates\n",
    "        tmp = tmp.drop(['DATE','PRCP'], axis=1) # get rid of date and precipitation columns\n",
    "        tmp.columns = [station]     # Re-name TAVG to be the station name\n",
    "        frames.append(tmp)\n",
    "#print('\\rDone reading data.')\n",
    "print(\"{0} GHCN files read\".format(len(frames)))"
   ]
  },
  {
   "cell_type": "code",
   "execution_count": 7,
   "metadata": {
    "collapsed": false
   },
   "outputs": [],
   "source": [
    "df = pd.concat(frames)  # Join all the seperate data together into one object"
   ]
  },
  {
   "cell_type": "markdown",
   "metadata": {
    "collapsed": false
   },
   "source": [
    "## Step 2: Cleaning the dataset for analysis\n",
    "\n",
    "Now we have created a dataframe **df** holding all the station data with one coherant time index.\n",
    "\n",
    "This abstraction will do much of the work for us..."
   ]
  },
  {
   "cell_type": "code",
   "execution_count": 8,
   "metadata": {
    "collapsed": false
   },
   "outputs": [
    {
     "name": "stdout",
     "output_type": "stream",
     "text": [
      "minimum date: 1980-01-01\n",
      "maximum date: 2009-12-31\n"
     ]
    }
   ],
   "source": [
    "# First lets see how long these data run for in time\n",
    "print(\"minimum date:\", min(df.index).date())\n",
    "print(\"maximum date:\", max(df.index).date())"
   ]
  },
  {
   "cell_type": "code",
   "execution_count": 9,
   "metadata": {
    "collapsed": false
   },
   "outputs": [
    {
     "data": {
      "text/html": [
       "<div>\n",
       "<table border=\"1\" class=\"dataframe\">\n",
       "  <thead>\n",
       "    <tr style=\"text-align: right;\">\n",
       "      <th></th>\n",
       "      <th>BUM00015502</th>\n",
       "      <th>MD000033881</th>\n",
       "      <th>MD000033885</th>\n",
       "      <th>ROE00100829</th>\n",
       "      <th>ROE00100898</th>\n",
       "      <th>ROE00100899</th>\n",
       "      <th>ROE00100900</th>\n",
       "      <th>ROE00100901</th>\n",
       "      <th>ROE00100902</th>\n",
       "      <th>ROE00100903</th>\n",
       "      <th>...</th>\n",
       "      <th>ROE00108901</th>\n",
       "      <th>ROE00108903</th>\n",
       "      <th>ROM00015023</th>\n",
       "      <th>ROM00015085</th>\n",
       "      <th>ROM00015247</th>\n",
       "      <th>ROM00015280</th>\n",
       "      <th>ROM00015360</th>\n",
       "      <th>UPM00033657</th>\n",
       "      <th>UPM00033889</th>\n",
       "      <th>UPM00033898</th>\n",
       "    </tr>\n",
       "  </thead>\n",
       "  <tbody>\n",
       "    <tr>\n",
       "      <th>count</th>\n",
       "      <td>5559.000000</td>\n",
       "      <td>5018.000000</td>\n",
       "      <td>3288.0</td>\n",
       "      <td>10958.0</td>\n",
       "      <td>7671.0</td>\n",
       "      <td>7671.0</td>\n",
       "      <td>10958.000000</td>\n",
       "      <td>10958.0</td>\n",
       "      <td>10958.000000</td>\n",
       "      <td>10958.0</td>\n",
       "      <td>...</td>\n",
       "      <td>10958.000000</td>\n",
       "      <td>10958.0</td>\n",
       "      <td>9740.000000</td>\n",
       "      <td>9283.000000</td>\n",
       "      <td>10931.000000</td>\n",
       "      <td>10958.000000</td>\n",
       "      <td>10958.000000</td>\n",
       "      <td>7143.000000</td>\n",
       "      <td>10528.000000</td>\n",
       "      <td>2999.000000</td>\n",
       "    </tr>\n",
       "    <tr>\n",
       "      <th>mean</th>\n",
       "      <td>11.848138</td>\n",
       "      <td>-6941.615843</td>\n",
       "      <td>-9999.0</td>\n",
       "      <td>-9999.0</td>\n",
       "      <td>-9999.0</td>\n",
       "      <td>-9999.0</td>\n",
       "      <td>-13.355986</td>\n",
       "      <td>-9999.0</td>\n",
       "      <td>-8.494789</td>\n",
       "      <td>-9999.0</td>\n",
       "      <td>...</td>\n",
       "      <td>-21.195099</td>\n",
       "      <td>-9999.0</td>\n",
       "      <td>8.089189</td>\n",
       "      <td>-1368.377744</td>\n",
       "      <td>11.087110</td>\n",
       "      <td>-55.171254</td>\n",
       "      <td>-127.964948</td>\n",
       "      <td>-4237.818102</td>\n",
       "      <td>9.883169</td>\n",
       "      <td>11.217172</td>\n",
       "    </tr>\n",
       "    <tr>\n",
       "      <th>std</th>\n",
       "      <td>9.214671</td>\n",
       "      <td>4610.243549</td>\n",
       "      <td>0.0</td>\n",
       "      <td>0.0</td>\n",
       "      <td>0.0</td>\n",
       "      <td>0.0</td>\n",
       "      <td>496.394257</td>\n",
       "      <td>0.0</td>\n",
       "      <td>416.482596</td>\n",
       "      <td>0.0</td>\n",
       "      <td>...</td>\n",
       "      <td>548.479493</td>\n",
       "      <td>0.0</td>\n",
       "      <td>9.260360</td>\n",
       "      <td>3447.104713</td>\n",
       "      <td>8.938544</td>\n",
       "      <td>725.432256</td>\n",
       "      <td>1174.701061</td>\n",
       "      <td>4943.788568</td>\n",
       "      <td>97.994676</td>\n",
       "      <td>9.070838</td>\n",
       "    </tr>\n",
       "    <tr>\n",
       "      <th>min</th>\n",
       "      <td>-18.200000</td>\n",
       "      <td>-9999.000000</td>\n",
       "      <td>-9999.0</td>\n",
       "      <td>-9999.0</td>\n",
       "      <td>-9999.0</td>\n",
       "      <td>-9999.0</td>\n",
       "      <td>-9999.000000</td>\n",
       "      <td>-9999.0</td>\n",
       "      <td>-9999.000000</td>\n",
       "      <td>-9999.0</td>\n",
       "      <td>...</td>\n",
       "      <td>-9999.000000</td>\n",
       "      <td>-9999.0</td>\n",
       "      <td>-24.700000</td>\n",
       "      <td>-9999.000000</td>\n",
       "      <td>-17.700000</td>\n",
       "      <td>-9999.000000</td>\n",
       "      <td>-9999.000000</td>\n",
       "      <td>-9999.000000</td>\n",
       "      <td>-9999.000000</td>\n",
       "      <td>-19.900000</td>\n",
       "    </tr>\n",
       "    <tr>\n",
       "      <th>25%</th>\n",
       "      <td>4.400000</td>\n",
       "      <td>-9999.000000</td>\n",
       "      <td>-9999.0</td>\n",
       "      <td>-9999.0</td>\n",
       "      <td>-9999.0</td>\n",
       "      <td>-9999.0</td>\n",
       "      <td>3.200000</td>\n",
       "      <td>-9999.0</td>\n",
       "      <td>1.600000</td>\n",
       "      <td>-9999.0</td>\n",
       "      <td>...</td>\n",
       "      <td>1.700000</td>\n",
       "      <td>-9999.0</td>\n",
       "      <td>0.800000</td>\n",
       "      <td>-2.300000</td>\n",
       "      <td>3.800000</td>\n",
       "      <td>-7.400000</td>\n",
       "      <td>4.200000</td>\n",
       "      <td>-9999.000000</td>\n",
       "      <td>3.200000</td>\n",
       "      <td>4.250000</td>\n",
       "    </tr>\n",
       "    <tr>\n",
       "      <th>50%</th>\n",
       "      <td>12.400000</td>\n",
       "      <td>-9999.000000</td>\n",
       "      <td>-9999.0</td>\n",
       "      <td>-9999.0</td>\n",
       "      <td>-9999.0</td>\n",
       "      <td>-9999.0</td>\n",
       "      <td>12.000000</td>\n",
       "      <td>-9999.0</td>\n",
       "      <td>9.900000</td>\n",
       "      <td>-9999.0</td>\n",
       "      <td>...</td>\n",
       "      <td>10.000000</td>\n",
       "      <td>-9999.0</td>\n",
       "      <td>8.700000</td>\n",
       "      <td>6.300000</td>\n",
       "      <td>11.800000</td>\n",
       "      <td>-1.900000</td>\n",
       "      <td>11.800000</td>\n",
       "      <td>-6.300000</td>\n",
       "      <td>11.300000</td>\n",
       "      <td>11.100000</td>\n",
       "    </tr>\n",
       "    <tr>\n",
       "      <th>75%</th>\n",
       "      <td>19.900000</td>\n",
       "      <td>-0.600000</td>\n",
       "      <td>-9999.0</td>\n",
       "      <td>-9999.0</td>\n",
       "      <td>-9999.0</td>\n",
       "      <td>-9999.0</td>\n",
       "      <td>19.500000</td>\n",
       "      <td>-9999.0</td>\n",
       "      <td>16.400000</td>\n",
       "      <td>-9999.0</td>\n",
       "      <td>...</td>\n",
       "      <td>16.400000</td>\n",
       "      <td>-9999.0</td>\n",
       "      <td>15.800000</td>\n",
       "      <td>14.900000</td>\n",
       "      <td>18.600000</td>\n",
       "      <td>3.600000</td>\n",
       "      <td>19.500000</td>\n",
       "      <td>6.300000</td>\n",
       "      <td>18.900000</td>\n",
       "      <td>18.900000</td>\n",
       "    </tr>\n",
       "    <tr>\n",
       "      <th>max</th>\n",
       "      <td>31.200000</td>\n",
       "      <td>31.400000</td>\n",
       "      <td>-9999.0</td>\n",
       "      <td>-9999.0</td>\n",
       "      <td>-9999.0</td>\n",
       "      <td>-9999.0</td>\n",
       "      <td>32.100000</td>\n",
       "      <td>-9999.0</td>\n",
       "      <td>28.300000</td>\n",
       "      <td>-9999.0</td>\n",
       "      <td>...</td>\n",
       "      <td>30.000000</td>\n",
       "      <td>-9999.0</td>\n",
       "      <td>29.100000</td>\n",
       "      <td>29.900000</td>\n",
       "      <td>31.900000</td>\n",
       "      <td>16.700000</td>\n",
       "      <td>28.900000</td>\n",
       "      <td>27.900000</td>\n",
       "      <td>32.000000</td>\n",
       "      <td>62.200000</td>\n",
       "    </tr>\n",
       "  </tbody>\n",
       "</table>\n",
       "<p>8 rows × 36 columns</p>\n",
       "</div>"
      ],
      "text/plain": [
       "       BUM00015502  MD000033881  MD000033885  ROE00100829  ROE00100898  \\\n",
       "count  5559.000000  5018.000000       3288.0      10958.0       7671.0   \n",
       "mean     11.848138 -6941.615843      -9999.0      -9999.0      -9999.0   \n",
       "std       9.214671  4610.243549          0.0          0.0          0.0   \n",
       "min     -18.200000 -9999.000000      -9999.0      -9999.0      -9999.0   \n",
       "25%       4.400000 -9999.000000      -9999.0      -9999.0      -9999.0   \n",
       "50%      12.400000 -9999.000000      -9999.0      -9999.0      -9999.0   \n",
       "75%      19.900000    -0.600000      -9999.0      -9999.0      -9999.0   \n",
       "max      31.200000    31.400000      -9999.0      -9999.0      -9999.0   \n",
       "\n",
       "       ROE00100899   ROE00100900  ROE00100901   ROE00100902  ROE00100903  \\\n",
       "count       7671.0  10958.000000      10958.0  10958.000000      10958.0   \n",
       "mean       -9999.0    -13.355986      -9999.0     -8.494789      -9999.0   \n",
       "std            0.0    496.394257          0.0    416.482596          0.0   \n",
       "min        -9999.0  -9999.000000      -9999.0  -9999.000000      -9999.0   \n",
       "25%        -9999.0      3.200000      -9999.0      1.600000      -9999.0   \n",
       "50%        -9999.0     12.000000      -9999.0      9.900000      -9999.0   \n",
       "75%        -9999.0     19.500000      -9999.0     16.400000      -9999.0   \n",
       "max        -9999.0     32.100000      -9999.0     28.300000      -9999.0   \n",
       "\n",
       "          ...        ROE00108901  ROE00108903  ROM00015023  ROM00015085  \\\n",
       "count     ...       10958.000000      10958.0  9740.000000  9283.000000   \n",
       "mean      ...         -21.195099      -9999.0     8.089189 -1368.377744   \n",
       "std       ...         548.479493          0.0     9.260360  3447.104713   \n",
       "min       ...       -9999.000000      -9999.0   -24.700000 -9999.000000   \n",
       "25%       ...           1.700000      -9999.0     0.800000    -2.300000   \n",
       "50%       ...          10.000000      -9999.0     8.700000     6.300000   \n",
       "75%       ...          16.400000      -9999.0    15.800000    14.900000   \n",
       "max       ...          30.000000      -9999.0    29.100000    29.900000   \n",
       "\n",
       "        ROM00015247   ROM00015280   ROM00015360  UPM00033657   UPM00033889  \\\n",
       "count  10931.000000  10958.000000  10958.000000  7143.000000  10528.000000   \n",
       "mean      11.087110    -55.171254   -127.964948 -4237.818102      9.883169   \n",
       "std        8.938544    725.432256   1174.701061  4943.788568     97.994676   \n",
       "min      -17.700000  -9999.000000  -9999.000000 -9999.000000  -9999.000000   \n",
       "25%        3.800000     -7.400000      4.200000 -9999.000000      3.200000   \n",
       "50%       11.800000     -1.900000     11.800000    -6.300000     11.300000   \n",
       "75%       18.600000      3.600000     19.500000     6.300000     18.900000   \n",
       "max       31.900000     16.700000     28.900000    27.900000     32.000000   \n",
       "\n",
       "       UPM00033898  \n",
       "count  2999.000000  \n",
       "mean     11.217172  \n",
       "std       9.070838  \n",
       "min     -19.900000  \n",
       "25%       4.250000  \n",
       "50%      11.100000  \n",
       "75%      18.900000  \n",
       "max      62.200000  \n",
       "\n",
       "[8 rows x 36 columns]"
      ]
     },
     "execution_count": 9,
     "metadata": {},
     "output_type": "execute_result"
    }
   ],
   "source": [
    "# Now let's look at a statistical description of these data\n",
    "df.describe()"
   ]
  },
  {
   "cell_type": "markdown",
   "metadata": {
    "collapsed": true
   },
   "source": [
    "There is a clear problem with these stats. Most of these data seem to have a missing value of `-9999.0` included.\n",
    "To proceede we should replace with with a missing data type that we can operate with `np.nan`"
   ]
  },
  {
   "cell_type": "code",
   "execution_count": 10,
   "metadata": {
    "collapsed": false
   },
   "outputs": [],
   "source": [
    "# we can replace all -999.0 values with np.nan like this\n",
    "df[df == -9999.0] = np.nan"
   ]
  },
  {
   "cell_type": "code",
   "execution_count": 11,
   "metadata": {
    "collapsed": false
   },
   "outputs": [
    {
     "data": {
      "text/html": [
       "<div>\n",
       "<table border=\"1\" class=\"dataframe\">\n",
       "  <thead>\n",
       "    <tr style=\"text-align: right;\">\n",
       "      <th></th>\n",
       "      <th>BUM00015502</th>\n",
       "      <th>MD000033881</th>\n",
       "      <th>MD000033885</th>\n",
       "      <th>ROE00100829</th>\n",
       "      <th>ROE00100898</th>\n",
       "      <th>ROE00100899</th>\n",
       "      <th>ROE00100900</th>\n",
       "      <th>ROE00100901</th>\n",
       "      <th>ROE00100902</th>\n",
       "      <th>ROE00100903</th>\n",
       "      <th>...</th>\n",
       "      <th>ROE00108901</th>\n",
       "      <th>ROE00108903</th>\n",
       "      <th>ROM00015023</th>\n",
       "      <th>ROM00015085</th>\n",
       "      <th>ROM00015247</th>\n",
       "      <th>ROM00015280</th>\n",
       "      <th>ROM00015360</th>\n",
       "      <th>UPM00033657</th>\n",
       "      <th>UPM00033889</th>\n",
       "      <th>UPM00033898</th>\n",
       "    </tr>\n",
       "  </thead>\n",
       "  <tbody>\n",
       "    <tr>\n",
       "      <th>count</th>\n",
       "      <td>5559.000000</td>\n",
       "      <td>1533.000000</td>\n",
       "      <td>0.0</td>\n",
       "      <td>0.0</td>\n",
       "      <td>0.0</td>\n",
       "      <td>0.0</td>\n",
       "      <td>10931.000000</td>\n",
       "      <td>0.0</td>\n",
       "      <td>10939.000000</td>\n",
       "      <td>0.0</td>\n",
       "      <td>...</td>\n",
       "      <td>10925.000000</td>\n",
       "      <td>0.0</td>\n",
       "      <td>9740.000000</td>\n",
       "      <td>8006.000000</td>\n",
       "      <td>10931.000000</td>\n",
       "      <td>10900.000000</td>\n",
       "      <td>10805.000000</td>\n",
       "      <td>4114.000000</td>\n",
       "      <td>10527.000000</td>\n",
       "      <td>2999.000000</td>\n",
       "    </tr>\n",
       "    <tr>\n",
       "      <th>mean</th>\n",
       "      <td>11.848138</td>\n",
       "      <td>8.797586</td>\n",
       "      <td>NaN</td>\n",
       "      <td>NaN</td>\n",
       "      <td>NaN</td>\n",
       "      <td>NaN</td>\n",
       "      <td>11.308947</td>\n",
       "      <td>NaN</td>\n",
       "      <td>8.857766</td>\n",
       "      <td>NaN</td>\n",
       "      <td>...</td>\n",
       "      <td>8.943808</td>\n",
       "      <td>NaN</td>\n",
       "      <td>8.089189</td>\n",
       "      <td>8.252860</td>\n",
       "      <td>11.087110</td>\n",
       "      <td>-2.259138</td>\n",
       "      <td>11.810005</td>\n",
       "      <td>3.946597</td>\n",
       "      <td>10.833951</td>\n",
       "      <td>11.217172</td>\n",
       "    </tr>\n",
       "    <tr>\n",
       "      <th>std</th>\n",
       "      <td>9.214671</td>\n",
       "      <td>9.237687</td>\n",
       "      <td>NaN</td>\n",
       "      <td>NaN</td>\n",
       "      <td>NaN</td>\n",
       "      <td>NaN</td>\n",
       "      <td>9.473929</td>\n",
       "      <td>NaN</td>\n",
       "      <td>9.015601</td>\n",
       "      <td>NaN</td>\n",
       "      <td>...</td>\n",
       "      <td>9.078585</td>\n",
       "      <td>NaN</td>\n",
       "      <td>9.260360</td>\n",
       "      <td>9.146393</td>\n",
       "      <td>8.938544</td>\n",
       "      <td>7.430264</td>\n",
       "      <td>8.616334</td>\n",
       "      <td>8.912032</td>\n",
       "      <td>9.262486</td>\n",
       "      <td>9.070838</td>\n",
       "    </tr>\n",
       "    <tr>\n",
       "      <th>min</th>\n",
       "      <td>-18.200000</td>\n",
       "      <td>-16.500000</td>\n",
       "      <td>NaN</td>\n",
       "      <td>NaN</td>\n",
       "      <td>NaN</td>\n",
       "      <td>NaN</td>\n",
       "      <td>-16.300000</td>\n",
       "      <td>NaN</td>\n",
       "      <td>-21.800000</td>\n",
       "      <td>NaN</td>\n",
       "      <td>...</td>\n",
       "      <td>-24.400000</td>\n",
       "      <td>NaN</td>\n",
       "      <td>-24.700000</td>\n",
       "      <td>-23.700000</td>\n",
       "      <td>-17.700000</td>\n",
       "      <td>-31.400000</td>\n",
       "      <td>-17.800000</td>\n",
       "      <td>-32.400000</td>\n",
       "      <td>-34.400000</td>\n",
       "      <td>-19.900000</td>\n",
       "    </tr>\n",
       "    <tr>\n",
       "      <th>25%</th>\n",
       "      <td>4.400000</td>\n",
       "      <td>1.100000</td>\n",
       "      <td>NaN</td>\n",
       "      <td>NaN</td>\n",
       "      <td>NaN</td>\n",
       "      <td>NaN</td>\n",
       "      <td>3.200000</td>\n",
       "      <td>NaN</td>\n",
       "      <td>1.600000</td>\n",
       "      <td>NaN</td>\n",
       "      <td>...</td>\n",
       "      <td>1.800000</td>\n",
       "      <td>NaN</td>\n",
       "      <td>0.800000</td>\n",
       "      <td>1.200000</td>\n",
       "      <td>3.800000</td>\n",
       "      <td>-7.300000</td>\n",
       "      <td>4.500000</td>\n",
       "      <td>-2.300000</td>\n",
       "      <td>3.200000</td>\n",
       "      <td>4.250000</td>\n",
       "    </tr>\n",
       "    <tr>\n",
       "      <th>50%</th>\n",
       "      <td>12.400000</td>\n",
       "      <td>8.900000</td>\n",
       "      <td>NaN</td>\n",
       "      <td>NaN</td>\n",
       "      <td>NaN</td>\n",
       "      <td>NaN</td>\n",
       "      <td>12.100000</td>\n",
       "      <td>NaN</td>\n",
       "      <td>9.900000</td>\n",
       "      <td>NaN</td>\n",
       "      <td>...</td>\n",
       "      <td>10.000000</td>\n",
       "      <td>NaN</td>\n",
       "      <td>8.700000</td>\n",
       "      <td>9.200000</td>\n",
       "      <td>11.800000</td>\n",
       "      <td>-1.900000</td>\n",
       "      <td>12.100000</td>\n",
       "      <td>4.200000</td>\n",
       "      <td>11.300000</td>\n",
       "      <td>11.100000</td>\n",
       "    </tr>\n",
       "    <tr>\n",
       "      <th>75%</th>\n",
       "      <td>19.900000</td>\n",
       "      <td>16.500000</td>\n",
       "      <td>NaN</td>\n",
       "      <td>NaN</td>\n",
       "      <td>NaN</td>\n",
       "      <td>NaN</td>\n",
       "      <td>19.500000</td>\n",
       "      <td>NaN</td>\n",
       "      <td>16.400000</td>\n",
       "      <td>NaN</td>\n",
       "      <td>...</td>\n",
       "      <td>16.400000</td>\n",
       "      <td>NaN</td>\n",
       "      <td>15.800000</td>\n",
       "      <td>15.800000</td>\n",
       "      <td>18.600000</td>\n",
       "      <td>3.625000</td>\n",
       "      <td>19.600000</td>\n",
       "      <td>11.100000</td>\n",
       "      <td>18.900000</td>\n",
       "      <td>18.900000</td>\n",
       "    </tr>\n",
       "    <tr>\n",
       "      <th>max</th>\n",
       "      <td>31.200000</td>\n",
       "      <td>31.400000</td>\n",
       "      <td>NaN</td>\n",
       "      <td>NaN</td>\n",
       "      <td>NaN</td>\n",
       "      <td>NaN</td>\n",
       "      <td>32.100000</td>\n",
       "      <td>NaN</td>\n",
       "      <td>28.300000</td>\n",
       "      <td>NaN</td>\n",
       "      <td>...</td>\n",
       "      <td>30.000000</td>\n",
       "      <td>NaN</td>\n",
       "      <td>29.100000</td>\n",
       "      <td>29.900000</td>\n",
       "      <td>31.900000</td>\n",
       "      <td>16.700000</td>\n",
       "      <td>28.900000</td>\n",
       "      <td>27.900000</td>\n",
       "      <td>32.000000</td>\n",
       "      <td>62.200000</td>\n",
       "    </tr>\n",
       "  </tbody>\n",
       "</table>\n",
       "<p>8 rows × 36 columns</p>\n",
       "</div>"
      ],
      "text/plain": [
       "       BUM00015502  MD000033881  MD000033885  ROE00100829  ROE00100898  \\\n",
       "count  5559.000000  1533.000000          0.0          0.0          0.0   \n",
       "mean     11.848138     8.797586          NaN          NaN          NaN   \n",
       "std       9.214671     9.237687          NaN          NaN          NaN   \n",
       "min     -18.200000   -16.500000          NaN          NaN          NaN   \n",
       "25%       4.400000     1.100000          NaN          NaN          NaN   \n",
       "50%      12.400000     8.900000          NaN          NaN          NaN   \n",
       "75%      19.900000    16.500000          NaN          NaN          NaN   \n",
       "max      31.200000    31.400000          NaN          NaN          NaN   \n",
       "\n",
       "       ROE00100899   ROE00100900  ROE00100901   ROE00100902  ROE00100903  \\\n",
       "count          0.0  10931.000000          0.0  10939.000000          0.0   \n",
       "mean           NaN     11.308947          NaN      8.857766          NaN   \n",
       "std            NaN      9.473929          NaN      9.015601          NaN   \n",
       "min            NaN    -16.300000          NaN    -21.800000          NaN   \n",
       "25%            NaN      3.200000          NaN      1.600000          NaN   \n",
       "50%            NaN     12.100000          NaN      9.900000          NaN   \n",
       "75%            NaN     19.500000          NaN     16.400000          NaN   \n",
       "max            NaN     32.100000          NaN     28.300000          NaN   \n",
       "\n",
       "          ...        ROE00108901  ROE00108903  ROM00015023  ROM00015085  \\\n",
       "count     ...       10925.000000          0.0  9740.000000  8006.000000   \n",
       "mean      ...           8.943808          NaN     8.089189     8.252860   \n",
       "std       ...           9.078585          NaN     9.260360     9.146393   \n",
       "min       ...         -24.400000          NaN   -24.700000   -23.700000   \n",
       "25%       ...           1.800000          NaN     0.800000     1.200000   \n",
       "50%       ...          10.000000          NaN     8.700000     9.200000   \n",
       "75%       ...          16.400000          NaN    15.800000    15.800000   \n",
       "max       ...          30.000000          NaN    29.100000    29.900000   \n",
       "\n",
       "        ROM00015247   ROM00015280   ROM00015360  UPM00033657   UPM00033889  \\\n",
       "count  10931.000000  10900.000000  10805.000000  4114.000000  10527.000000   \n",
       "mean      11.087110     -2.259138     11.810005     3.946597     10.833951   \n",
       "std        8.938544      7.430264      8.616334     8.912032      9.262486   \n",
       "min      -17.700000    -31.400000    -17.800000   -32.400000    -34.400000   \n",
       "25%        3.800000     -7.300000      4.500000    -2.300000      3.200000   \n",
       "50%       11.800000     -1.900000     12.100000     4.200000     11.300000   \n",
       "75%       18.600000      3.625000     19.600000    11.100000     18.900000   \n",
       "max       31.900000     16.700000     28.900000    27.900000     32.000000   \n",
       "\n",
       "       UPM00033898  \n",
       "count  2999.000000  \n",
       "mean     11.217172  \n",
       "std       9.070838  \n",
       "min     -19.900000  \n",
       "25%       4.250000  \n",
       "50%      11.100000  \n",
       "75%      18.900000  \n",
       "max      62.200000  \n",
       "\n",
       "[8 rows x 36 columns]"
      ]
     },
     "execution_count": 11,
     "metadata": {},
     "output_type": "execute_result"
    }
   ],
   "source": [
    "# Now, the dataframe values seems reasonable, except we can see there are many series which are empty.\n",
    "# They were just full of missing values for whatever reason.\n",
    "\n",
    "df.describe()"
   ]
  },
  {
   "cell_type": "code",
   "execution_count": 12,
   "metadata": {
    "collapsed": false
   },
   "outputs": [
    {
     "name": "stdout",
     "output_type": "stream",
     "text": [
      "removing BUM00015502 from df object.\n",
      "removing MD000033881 from df object.\n",
      "removing MD000033885 from df object.\n",
      "removing ROE00100829 from df object.\n",
      "removing ROE00100898 from df object.\n",
      "removing ROE00100899 from df object.\n",
      "removing ROE00100901 from df object.\n",
      "removing ROE00100903 from df object.\n",
      "removing ROE00100904 from df object.\n",
      "removing ROE00100905 from df object.\n",
      "removing ROE00108887 from df object.\n",
      "removing ROE00108888 from df object.\n",
      "removing ROE00108891 from df object.\n",
      "removing ROE00108894 from df object.\n",
      "removing ROE00108897 from df object.\n",
      "removing ROE00108898 from df object.\n",
      "removing ROE00108899 from df object.\n",
      "removing ROE00108900 from df object.\n",
      "removing ROE00108903 from df object.\n",
      "removing ROM00015023 from df object.\n",
      "removing ROM00015085 from df object.\n",
      "removing UPM00033657 from df object.\n",
      "removing UPM00033898 from df object.\n"
     ]
    }
   ],
   "source": [
    "# It looks like we can simply filter out data that now has a low count (e.g. < 10,000).\n",
    "\n",
    "limit = 10000\n",
    "\n",
    "for key in df:\n",
    "    if df[key].count() <= limit:\n",
    "        print('removing', key,'from df object.')\n",
    "        df = df.drop([key], axis=1)"
   ]
  },
  {
   "cell_type": "code",
   "execution_count": 13,
   "metadata": {
    "collapsed": false
   },
   "outputs": [
    {
     "data": {
      "text/html": [
       "<div>\n",
       "<table border=\"1\" class=\"dataframe\">\n",
       "  <thead>\n",
       "    <tr style=\"text-align: right;\">\n",
       "      <th></th>\n",
       "      <th>ROE00100900</th>\n",
       "      <th>ROE00100902</th>\n",
       "      <th>ROE00108889</th>\n",
       "      <th>ROE00108890</th>\n",
       "      <th>ROE00108892</th>\n",
       "      <th>ROE00108893</th>\n",
       "      <th>ROE00108895</th>\n",
       "      <th>ROE00108896</th>\n",
       "      <th>ROE00108901</th>\n",
       "      <th>ROM00015247</th>\n",
       "      <th>ROM00015280</th>\n",
       "      <th>ROM00015360</th>\n",
       "      <th>UPM00033889</th>\n",
       "    </tr>\n",
       "  </thead>\n",
       "  <tbody>\n",
       "    <tr>\n",
       "      <th>count</th>\n",
       "      <td>10931.000000</td>\n",
       "      <td>10939.000000</td>\n",
       "      <td>10956.000000</td>\n",
       "      <td>10932.000000</td>\n",
       "      <td>10572.000000</td>\n",
       "      <td>10570.000000</td>\n",
       "      <td>10939.000000</td>\n",
       "      <td>10927.000000</td>\n",
       "      <td>10925.000000</td>\n",
       "      <td>10931.000000</td>\n",
       "      <td>10900.000000</td>\n",
       "      <td>10805.000000</td>\n",
       "      <td>10527.000000</td>\n",
       "    </tr>\n",
       "    <tr>\n",
       "      <th>mean</th>\n",
       "      <td>11.308947</td>\n",
       "      <td>8.857766</td>\n",
       "      <td>11.184292</td>\n",
       "      <td>10.697539</td>\n",
       "      <td>12.089397</td>\n",
       "      <td>11.349016</td>\n",
       "      <td>11.045617</td>\n",
       "      <td>9.988835</td>\n",
       "      <td>8.943808</td>\n",
       "      <td>11.087110</td>\n",
       "      <td>-2.259138</td>\n",
       "      <td>11.810005</td>\n",
       "      <td>10.833951</td>\n",
       "    </tr>\n",
       "    <tr>\n",
       "      <th>std</th>\n",
       "      <td>9.473929</td>\n",
       "      <td>9.015601</td>\n",
       "      <td>9.448243</td>\n",
       "      <td>8.646676</td>\n",
       "      <td>8.600185</td>\n",
       "      <td>9.500535</td>\n",
       "      <td>9.614037</td>\n",
       "      <td>9.674381</td>\n",
       "      <td>9.078585</td>\n",
       "      <td>8.938544</td>\n",
       "      <td>7.430264</td>\n",
       "      <td>8.616334</td>\n",
       "      <td>9.262486</td>\n",
       "    </tr>\n",
       "    <tr>\n",
       "      <th>min</th>\n",
       "      <td>-16.300000</td>\n",
       "      <td>-21.800000</td>\n",
       "      <td>-17.300000</td>\n",
       "      <td>-14.800000</td>\n",
       "      <td>-15.600000</td>\n",
       "      <td>-17.700000</td>\n",
       "      <td>-19.000000</td>\n",
       "      <td>-23.600000</td>\n",
       "      <td>-24.400000</td>\n",
       "      <td>-17.700000</td>\n",
       "      <td>-31.400000</td>\n",
       "      <td>-17.800000</td>\n",
       "      <td>-34.400000</td>\n",
       "    </tr>\n",
       "    <tr>\n",
       "      <th>25%</th>\n",
       "      <td>3.200000</td>\n",
       "      <td>1.600000</td>\n",
       "      <td>3.100000</td>\n",
       "      <td>3.700000</td>\n",
       "      <td>5.100000</td>\n",
       "      <td>3.400000</td>\n",
       "      <td>2.900000</td>\n",
       "      <td>2.100000</td>\n",
       "      <td>1.800000</td>\n",
       "      <td>3.800000</td>\n",
       "      <td>-7.300000</td>\n",
       "      <td>4.500000</td>\n",
       "      <td>3.200000</td>\n",
       "    </tr>\n",
       "    <tr>\n",
       "      <th>50%</th>\n",
       "      <td>12.100000</td>\n",
       "      <td>9.900000</td>\n",
       "      <td>11.800000</td>\n",
       "      <td>11.500000</td>\n",
       "      <td>12.400000</td>\n",
       "      <td>12.200000</td>\n",
       "      <td>11.900000</td>\n",
       "      <td>10.800000</td>\n",
       "      <td>10.000000</td>\n",
       "      <td>11.800000</td>\n",
       "      <td>-1.900000</td>\n",
       "      <td>12.100000</td>\n",
       "      <td>11.300000</td>\n",
       "    </tr>\n",
       "    <tr>\n",
       "      <th>75%</th>\n",
       "      <td>19.500000</td>\n",
       "      <td>16.400000</td>\n",
       "      <td>19.400000</td>\n",
       "      <td>17.800000</td>\n",
       "      <td>19.700000</td>\n",
       "      <td>19.400000</td>\n",
       "      <td>19.300000</td>\n",
       "      <td>18.200000</td>\n",
       "      <td>16.400000</td>\n",
       "      <td>18.600000</td>\n",
       "      <td>3.625000</td>\n",
       "      <td>19.600000</td>\n",
       "      <td>18.900000</td>\n",
       "    </tr>\n",
       "    <tr>\n",
       "      <th>max</th>\n",
       "      <td>32.100000</td>\n",
       "      <td>28.300000</td>\n",
       "      <td>32.400000</td>\n",
       "      <td>31.900000</td>\n",
       "      <td>31.000000</td>\n",
       "      <td>33.100000</td>\n",
       "      <td>33.100000</td>\n",
       "      <td>31.600000</td>\n",
       "      <td>30.000000</td>\n",
       "      <td>31.900000</td>\n",
       "      <td>16.700000</td>\n",
       "      <td>28.900000</td>\n",
       "      <td>32.000000</td>\n",
       "    </tr>\n",
       "  </tbody>\n",
       "</table>\n",
       "</div>"
      ],
      "text/plain": [
       "        ROE00100900   ROE00100902   ROE00108889   ROE00108890   ROE00108892  \\\n",
       "count  10931.000000  10939.000000  10956.000000  10932.000000  10572.000000   \n",
       "mean      11.308947      8.857766     11.184292     10.697539     12.089397   \n",
       "std        9.473929      9.015601      9.448243      8.646676      8.600185   \n",
       "min      -16.300000    -21.800000    -17.300000    -14.800000    -15.600000   \n",
       "25%        3.200000      1.600000      3.100000      3.700000      5.100000   \n",
       "50%       12.100000      9.900000     11.800000     11.500000     12.400000   \n",
       "75%       19.500000     16.400000     19.400000     17.800000     19.700000   \n",
       "max       32.100000     28.300000     32.400000     31.900000     31.000000   \n",
       "\n",
       "        ROE00108893   ROE00108895   ROE00108896   ROE00108901   ROM00015247  \\\n",
       "count  10570.000000  10939.000000  10927.000000  10925.000000  10931.000000   \n",
       "mean      11.349016     11.045617      9.988835      8.943808     11.087110   \n",
       "std        9.500535      9.614037      9.674381      9.078585      8.938544   \n",
       "min      -17.700000    -19.000000    -23.600000    -24.400000    -17.700000   \n",
       "25%        3.400000      2.900000      2.100000      1.800000      3.800000   \n",
       "50%       12.200000     11.900000     10.800000     10.000000     11.800000   \n",
       "75%       19.400000     19.300000     18.200000     16.400000     18.600000   \n",
       "max       33.100000     33.100000     31.600000     30.000000     31.900000   \n",
       "\n",
       "        ROM00015280   ROM00015360   UPM00033889  \n",
       "count  10900.000000  10805.000000  10527.000000  \n",
       "mean      -2.259138     11.810005     10.833951  \n",
       "std        7.430264      8.616334      9.262486  \n",
       "min      -31.400000    -17.800000    -34.400000  \n",
       "25%       -7.300000      4.500000      3.200000  \n",
       "50%       -1.900000     12.100000     11.300000  \n",
       "75%        3.625000     19.600000     18.900000  \n",
       "max       16.700000     28.900000     32.000000  "
      ]
     },
     "execution_count": 13,
     "metadata": {},
     "output_type": "execute_result"
    }
   ],
   "source": [
    "# Much better! Finally a clean df object, that we can work from.\n",
    "\n",
    "df.describe()"
   ]
  },
  {
   "cell_type": "markdown",
   "metadata": {},
   "source": [
    "## Step 3. Analysis\n"
   ]
  },
  {
   "cell_type": "code",
   "execution_count": 15,
   "metadata": {
    "collapsed": false
   },
   "outputs": [
    {
     "data": {
      "image/png": "[encoded data removed]",
      "text/plain": [
       "<matplotlib.figure.Figure at 0x1131331d0>"
      ]
     },
     "metadata": {},
     "output_type": "display_data"
    }
   ],
   "source": [
    "for key in df:\n",
    "    plt.plot(df[key], lw=1., alpha=0.5)\n",
    "plt.title('Individual stations')\n",
    "plt.show()"
   ]
  },
  {
   "cell_type": "markdown",
   "metadata": {},
   "source": [
    "Aggregated, these data gives a clearer picture"
   ]
  },
  {
   "cell_type": "code",
   "execution_count": 18,
   "metadata": {
    "collapsed": false
   },
   "outputs": [
    {
     "data": {
      "text/plain": [
       "<matplotlib.axes._subplots.AxesSubplot at 0x103231cc0>"
      ]
     },
     "execution_count": 18,
     "metadata": {},
     "output_type": "execute_result"
    },
    {
     "data": {
      "image/png": "[encoded data removed]",
      "text/plain": [
       "<matplotlib.figure.Figure at 0x11310d240>"
      ]
     },
     "metadata": {},
     "output_type": "display_data"
    }
   ],
   "source": [
    "df.mean(axis=1).plot(title='Romanian TAVG', lw=0.1, alpha=0.8)"
   ]
  },
  {
   "cell_type": "markdown",
   "metadata": {},
   "source": [
    "Looking at the data it is easy to see the seasonal signal is dominant. One method of removing the seasonal signal and work with anomalies is to subtract a day-of-the-year (DOY) mean."
   ]
  },
  {
   "cell_type": "code",
   "execution_count": 19,
   "metadata": {
    "collapsed": true
   },
   "outputs": [],
   "source": [
    "# make the average data a new series, and strip out nan values for working ease\n",
    "df_mean = pd.DataFrame(df.mean(axis=1), columns=['mean_temp'])  # make a new df object\n",
    "df_mean = df_mean[df_mean.notnull().values]                     # remove missing values"
   ]
  },
  {
   "cell_type": "markdown",
   "metadata": {},
   "source": [
    "I can look at every day in the time series, find its DOY value (an integer from 1 - 366), make a corresponding list, and use it to subscript the mean dataframe, and find the mean on each day of the year. I place these values in a dictionary with integer doy as a key, for ease of use later when deseasonalising.  "
   ]
  },
  {
   "cell_type": "code",
   "execution_count": 70,
   "metadata": {
    "collapsed": false
   },
   "outputs": [],
   "source": [
    "doy_index = np.array([ date.dayofyear for date in df_mean.index])  # make an array of DOY values to use as a lookup\n",
    "d = {}\n",
    "for doy in range(1,367):\n",
    "    d[doy] = df_mean[doy_index == doy].mean().values[0]"
   ]
  },
  {
   "cell_type": "code",
   "execution_count": 85,
   "metadata": {
    "collapsed": false
   },
   "outputs": [
    {
     "data": {
      "image/png": "[encoded data removed]",
      "text/plain": [
       "<matplotlib.figure.Figure at 0x1213c5a58>"
      ]
     },
     "metadata": {},
     "output_type": "display_data"
    }
   ],
   "source": [
    "# Veryify it looks okay...\n",
    "tmp = []\n",
    "for key in d:\n",
    "    tmp.append(d[key])\n",
    "plt.plot(range(1,367), tmp)\n",
    "plt.title(\"Seasonal Temperature signal in Romania\")\n",
    "plt.xlabel('DOY')\n",
    "plt.xlim([1,367])\n",
    "plt.ylabel(\"Temp. °C\")\n",
    "plt.show()"
   ]
  },
  {
   "cell_type": "code",
   "execution_count": null,
   "metadata": {
    "collapsed": false
   },
   "outputs": [],
   "source": []
  },
  {
   "cell_type": "code",
   "execution_count": null,
   "metadata": {
    "collapsed": false
   },
   "outputs": [],
   "source": [
    "#df_mean\n",
    "\n",
    "\n",
    "# Day of year mean...\n",
    "\n",
    "# Deseasnalise data with DOY mean\n",
    "\n",
    "# Examine average temperature anomalies"
   ]
  },
  {
   "cell_type": "markdown",
   "metadata": {},
   "source": [
    "## Step 4: Using the data for something useful!\n",
    "\n",
    "Based on historical Romanian average temperature anomalies, how does a given value rank?\n",
    "\n",
    "Requires an average temperature and a date as input."
   ]
  },
  {
   "cell_type": "code",
   "execution_count": null,
   "metadata": {
    "collapsed": false
   },
   "outputs": [],
   "source": [
    "#df.mean(axis=1).plot.hist(bins=150, normed=True, xlim=[-30,40])"
   ]
  },
  {
   "cell_type": "code",
   "execution_count": null,
   "metadata": {
    "collapsed": false
   },
   "outputs": [],
   "source": [
    "# Extract a ranked list of the valid values\n",
    "\n",
    "tmp = df.mean(axis=1, skipna=True)\n",
    "tmp = tmp[tmp.notnull()]\n",
    "ranked = np.array(sorted(tmp.values))\n",
    "\n",
    "plt.plot(ranked)"
   ]
  },
  {
   "cell_type": "code",
   "execution_count": null,
   "metadata": {
    "collapsed": false
   },
   "outputs": [],
   "source": [
    "a,b,c = plt.hist(ranked, bins=150, cumulative=True, normed=True)"
   ]
  },
  {
   "cell_type": "code",
   "execution_count": null,
   "metadata": {
    "collapsed": false
   },
   "outputs": [],
   "source": [
    "# Needs to be anomalies\n",
    "x = 30\n",
    "pop = len(ranked)\n",
    "print(\"{0} values in population\".format(pop))\n",
    "mask = x < ranked\n",
    "larger = len(ranked[mask])\n",
    "print(\"{0} values are greater than {1}C\".format(larger, x))"
   ]
  },
  {
   "cell_type": "code",
   "execution_count": null,
   "metadata": {
    "collapsed": false
   },
   "outputs": [],
   "source": []
  },
  {
   "cell_type": "code",
   "execution_count": null,
   "metadata": {
    "collapsed": false
   },
   "outputs": [],
   "source": []
  },
  {
   "cell_type": "code",
   "execution_count": null,
   "metadata": {
    "collapsed": true
   },
   "outputs": [],
   "source": []
  }
 ],
 "metadata": {
  "anaconda-cloud": {},
  "kernelspec": {
   "display_name": "Python [default]",
   "language": "python",
   "name": "python3"
  },
  "language_info": {
   "codemirror_mode": {
    "name": "ipython",
    "version": 3
   },
   "file_extension": ".py",
   "mimetype": "text/x-python",
   "name": "python",
   "nbconvert_exporter": "python",
   "pygments_lexer": "ipython3",
   "version": "3.5.2"
  }
 },
 "nbformat": 4,
 "nbformat_minor": 0
}
