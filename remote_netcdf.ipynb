{
 "cells": [
  {
   "cell_type": "markdown",
   "metadata": {},
   "source": [
    "# Working from Remote Geophysical data \n",
    "\n",
    "Examples of accessing Netcdf data via TRHEDDS/OPENDAP services in Python, and plotting in Basemaps\n",
    "\n",
    "First, import libraries\n",
    "\n",
    "**Important note** It looks like for users on Windows with Python 3.x this demo will not work. It will work on Windows with Python 2.7 however. If you are on Linux or Mac (or running 2.7 in Windows) you can add the Basemap package with conda using the command `conda install Basemap`."
   ]
  },
  {
   "cell_type": "code",
   "execution_count": null,
   "metadata": {
    "collapsed": false
   },
   "outputs": [],
   "source": [
    "from mpl_toolkits.basemap import Basemap, shiftgrid\n",
    "from netCDF4 import Dataset, date2index\n",
    "import time\n",
    "import sys\n",
    "import numpy as np\n",
    "import matplotlib.pyplot as plt\n",
    "import matplotlib.cm as cm\n",
    "from datetime import datetime, timedelta\n",
    "%matplotlib notebook"
   ]
  },
  {
   "cell_type": "markdown",
   "metadata": {},
   "source": [
    "### Next, link to a remote dataset\n",
    "\n",
    "For example, ocean data from NOAA' [catalouge](http://coastwatch.pfeg.noaa.gov/erddap/griddap/index.html?page=1&itemsPerPage=1000)"
   ]
  },
  {
   "cell_type": "code",
   "execution_count": null,
   "metadata": {
    "collapsed": false
   },
   "outputs": [],
   "source": [
    "nc = Dataset('http://coastwatch.pfeg.noaa.gov/erddap/griddap/ncdcOisst2Agg')"
   ]
  },
  {
   "cell_type": "code",
   "execution_count": null,
   "metadata": {
    "collapsed": false
   },
   "outputs": [],
   "source": [
    "nc.variables  # See the metadata via this"
   ]
  },
  {
   "cell_type": "code",
   "execution_count": null,
   "metadata": {
    "collapsed": false
   },
   "outputs": [],
   "source": [
    "# Grab a slice of the SST to play with\n",
    "# nc.variables['sst']\n",
    "sst = nc.variables['sst'][0,:].squeeze()\n",
    "\n",
    "# preview the data with an array plotting function from matplotlib\n",
    "fig, ax = plt.subplots(1,1)\n",
    "ax.imshow(np.flipud(sst))"
   ]
  },
  {
   "cell_type": "code",
   "execution_count": null,
   "metadata": {
    "collapsed": false
   },
   "outputs": [],
   "source": [
    "lon, lat =  sst.shape\n",
    "print(\"Number of (floating point value) pixels of AVHRR data retrieved: {0:10,}\".format(lon * lat))\n",
    "print(\"Size in memory: {0:3.1f} mb\".format(16 * (lon*lat)/1000000)) # 16 bytes in a float, 1 million bytes in a megabyte"
   ]
  },
  {
   "cell_type": "markdown",
   "metadata": {},
   "source": [
    "### Project these data onto a map"
   ]
  },
  {
   "cell_type": "code",
   "execution_count": null,
   "metadata": {
    "collapsed": false
   },
   "outputs": [],
   "source": [
    "%%time\n",
    "# based on example at http://matplotlib.org/basemap/users/examples.html\n",
    "date = datetime(2007,12,15,0)    # Specify date to plot.\n",
    "dataset = Dataset('http://coastwatch.pfeg.noaa.gov/erddap/griddap/ncdcOisst2Agg')\n",
    "timevar = dataset.variables['time']\n",
    "timeindex = date2index(date, timevar) # find time index for desired date.\n",
    "\n",
    "# read sst.  Will automatically create a masked array using\n",
    "# missing_value variable attribute. 'squeeze out' singleton dimensions.\n",
    "sst = dataset.variables['sst'][timeindex,:].squeeze()\n",
    "# read ice.\n",
    "ice = dataset.variables['ice'][timeindex,:].squeeze()\n",
    "\n",
    "# read lats and lons (representing centers of grid boxes).\n",
    "lats = dataset.variables['latitude'][:]\n",
    "lons = dataset.variables['longitude'][:]\n",
    "lons, lats = np.meshgrid(lons,lats)\n",
    "\n",
    "# create figure, axes instances.\n",
    "fig = plt.figure()\n",
    "ax = fig.add_axes([0.05,0.05,0.9,0.9])\n",
    "# create Basemap instance.\n",
    "# coastlines not used, so resolution set to None to skip\n",
    "# continent processing (this speeds things up a bit)\n",
    "m = Basemap(projection='kav7',lon_0=0,resolution=None)\n",
    "m.drawmapboundary(fill_color='0.3') # color map background\n",
    "# plot sst, then ice with pcolor\n",
    "im1 = m.pcolormesh(lons, lats, sst, shading='flat', cmap=plt.cm.jet, latlon=True)\n",
    "im2 = m.pcolormesh(lons, lats, ice, shading='flat', cmap=plt.cm.gist_gray, latlon=True)\n",
    "# draw parallels and meridians, but don't bother labelling them.\n",
    "#m.drawparallels(np.arange(-90.,99.,30.))\n",
    "#m.drawmeridians(np.arange(-180.,180.,60.))\n",
    "# add colorbar\n",
    "cb = m.colorbar(im1,\"bottom\", size=\"5%\", pad=\"2%\")\n",
    "# add a title.\n",
    "ax.set_title('SST and ICE location on {0}'.format(date.date()))\n",
    "plt.show()"
   ]
  },
  {
   "cell_type": "markdown",
   "metadata": {},
   "source": [
    "## Complex example: multiple datasets accessed and overlaid onto a map\n",
    "\n",
    "Overlay datasets, project onto a map, calculate vectors, add map features (like coastlines)"
   ]
  },
  {
   "cell_type": "code",
   "execution_count": null,
   "metadata": {
    "collapsed": false
   },
   "outputs": [],
   "source": [
    "# specify date to plot.\n",
    "date = datetime(1993, 3, 14, 0)\n",
    "yyyy = date.year\n",
    "mm = date.month\n",
    "dd = date.day\n",
    "hh = date.hour\n",
    "\n",
    "# set OpenDAP server URL.\n",
    "\n",
    "URLbase=\"http://nomads.ncdc.noaa.gov/thredds/dodsC/modeldata/cmd_pgbh/\"\n",
    "URL=URLbase+\"%04i/%04i%02i/%04i%02i%02i/pgbh00.gdas.%04i%02i%02i%02i.grb2\" %\\\n",
    "             (yyyy,yyyy,mm,yyyy,mm,dd,yyyy,mm,dd,hh)\n",
    "    \n",
    "data = Dataset(URL)\n",
    "latitudes = data.variables['lat'][::-1]\n",
    "longitudes = data.variables['lon'][:].tolist()\n",
    "\n",
    "# Get pressure and 10-m wind data\n",
    "slpin = 0.01*data.variables['Pressure_msl'][:].squeeze() # 0.01* to convert to hPa\n",
    "uin = data.variables['U-component_of_wind_height_above_ground'][:].squeeze()\n",
    "vin = data.variables['V-component_of_wind_height_above_ground'][:].squeeze()\n",
    "\n",
    "# add cyclic points manually (could use addcyclic function)\n",
    "slp = np.zeros((slpin.shape[0],slpin.shape[1]+1),np.float)\n",
    "slp[:,0:-1] = slpin[::-1]; slp[:,-1] = slpin[::-1,0]\n",
    "u = np.zeros((uin.shape[0],uin.shape[1]+1),np.float64)\n",
    "u[:,0:-1] = uin[::-1]; u[:,-1] = uin[::-1,0]\n",
    "v = np.zeros((vin.shape[0],vin.shape[1]+1),np.float64)\n",
    "v[:,0:-1] = vin[::-1]; v[:,-1] = vin[::-1,0]\n",
    "\n",
    "longitudes.append(360.)\n",
    "longitudes = np.array(longitudes)\n",
    "\n",
    "lons, lats = np.meshgrid(longitudes,latitudes) # make 2-d grid of lons, lats\n",
    "m = Basemap(resolution='c',projection='ortho',lat_0=60.,lon_0=-60.)\n",
    "\n",
    "# create figure, add axes\n",
    "fig1 = plt.figure(figsize=(8,10))\n",
    "ax = fig1.add_axes([0.1,0.1,0.8,0.8])\n",
    "clevs = np.arange(960,1061,5)\n",
    "x, y = m(lons, lats)\n",
    "parallels = np.arange(-80.,90,20.)\n",
    "meridians = np.arange(0.,360.,20.)\n",
    "\n",
    "# plot SLP contours.\n",
    "CS1 = m.contour(x,y,slp,clevs,linewidths=0.5,colors='k',animated=True)\n",
    "CS2 = m.contourf(x,y,slp,clevs,cmap=plt.cm.RdBu_r,animated=True)\n",
    "ugrid,newlons = shiftgrid(180.,u,longitudes,start=False)\n",
    "vgrid,newlons = shiftgrid(180.,v,longitudes,start=False)\n",
    "uproj,vproj,xx,yy = m.transform_vector(ugrid,vgrid,newlons,latitudes,31,31,returnxy=True,masked=True)\n",
    "\n",
    "Q = m.quiver(xx,yy,uproj,vproj,scale=700)\n",
    "qk = plt.quiverkey(Q, 0.1, 0.1, 20, '20 m/s', labelpos='W')\n",
    "m.drawcoastlines(linewidth=1.5)\n",
    "m.drawparallels(parallels)\n",
    "m.drawmeridians(meridians)\n",
    "cb = m.colorbar(CS2,\"bottom\", size=\"5%\", pad=\"2%\")\n",
    "cb.set_label('hPa')\n",
    "ax.set_title('SLP and Wind Vectors '+str(date.date()))\n",
    "plt.show()"
   ]
  },
  {
   "cell_type": "markdown",
   "metadata": {},
   "source": [
    "These have just been one time-step in a bigger dataset...\n",
    "\n",
    "## Interact with a dataset via a widget interface\n",
    "\n",
    "Use a local dataset for speed - Met Office CRUTEM4 (http://www.metoffice.gov.uk/hadobs/crutem4/data/gridded_fields/CRUTEM.4.4.0.0.anomalies.nc.gz)\n",
    "\n",
    "First step is to turn a plot into a function call, then decorate it with a widget to scroll through the time-steps."
   ]
  },
  {
   "cell_type": "code",
   "execution_count": null,
   "metadata": {
    "collapsed": true
   },
   "outputs": [],
   "source": [
    "from ipywidgets import interact, interactive, fixed\n",
    "import ipywidgets as widgets\n",
    "%matplotlib inline"
   ]
  },
  {
   "cell_type": "code",
   "execution_count": null,
   "metadata": {
    "collapsed": false
   },
   "outputs": [],
   "source": [
    "nc = Dataset('Data/CRUTEM.4.4.0.0.anomalies.nc')\n",
    "lats = nc.variables['latitude'][:]\n",
    "lons = nc.variables['longitude'][:]\n",
    "lons, lats = np.meshgrid(lons,lats)\n",
    "tind = nc.variables['time'][:]\n",
    "\n",
    "\n",
    "@interact(index=(0, len(tind)))\n",
    "def ftest(index):\n",
    "    basetime = datetime(1850, 1, 1)\n",
    "    date = basetime + timedelta(days=int(tind[index]))\n",
    "    tanom = nc.variables['temperature_anomaly'][index,:].squeeze()\n",
    "    fig = plt.figure(figsize=(10,10))\n",
    "    ax = fig.add_axes([0.05,0.05,0.9,0.9])\n",
    "    m = Basemap(projection='moll',lon_0=0,resolution='c')\n",
    "    m.drawcoastlines()\n",
    "    im1 = m.pcolormesh(lons, lats, tanom, shading='flat', cmap=cm.RdBu_r, latlon=True, vmin=-10, vmax=10)\n",
    "    m.drawparallels(np.arange(-90., 99., 30.))\n",
    "    m.drawmeridians(np.arange(-180., 180., 60.))\n",
    "    cb = m.colorbar(im1,\"bottom\", size=\"5%\", pad=\"2%\")\n",
    "    ax.set_title('{0} CRUTEM4 anom. (°C)'.format(date.date()))\n",
    "    plt.show()"
   ]
  },
  {
   "cell_type": "code",
   "execution_count": null,
   "metadata": {
    "collapsed": true
   },
   "outputs": [],
   "source": []
  }
 ],
 "metadata": {
  "anaconda-cloud": {},
  "kernelspec": {
   "display_name": "Python [conda root]",
   "language": "python",
   "name": "conda-root-py"
  },
  "language_info": {
   "codemirror_mode": {
    "name": "ipython",
    "version": 3
   },
   "file_extension": ".py",
   "mimetype": "text/x-python",
   "name": "python",
   "nbconvert_exporter": "python",
   "pygments_lexer": "ipython3",
   "version": "3.5.2"
  },
  "widgets": {
   "state": {
    "df422b61db804b64842d82651c19e0ee": {
     "views": [
      {
       "cell_index": 13
      }
     ]
    }
   },
   "version": "1.2.0"
  }
 },
 "nbformat": 4,
 "nbformat_minor": 1
}
